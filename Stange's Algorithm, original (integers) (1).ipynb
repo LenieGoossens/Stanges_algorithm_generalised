{
 "cells": [
  {
   "cell_type": "code",
   "execution_count": 3,
   "metadata": {
    "collapsed": false
   },
   "outputs": [
   ],
   "source": [
    "#########################################\n",
    "# Toy implementation of factoring algorithm (Algorithm 2.2) in \n",
    "# \"Factoring using multiplicative relations modulo n:\n",
    "#      a subexponential factoring algorithm inspired by the index calculus\n",
    "# by Katherine E. Stange\n",
    "#########################################\n",
    "\n",
    "def get_order(n, g, B=10, rels=10, verbose=True, alphas=False, texify=False):\n",
    "    # INPUT:\n",
    "    # n = modulus\n",
    "    # g = base\n",
    "    # B = bound for primes\n",
    "    # rels = number of additional relations\n",
    "    # verbose = whether to print info as you go\n",
    "    # alphas = whether to return the alpha values\n",
    "    # textify = whether to print latex for algorithm\n",
    "    # OUTPUT:  order of g modulo n (with high probability)\n",
    "    \n",
    "    # Set up factor base\n",
    "    if verbose:\n",
    "        print(\"Attempting to compute the order of \", g, \"modulo\", n)\n",
    "    numPrimes = prime_pi(B)  # the number of primes <= B\n",
    "    if verbose:\n",
    "        print(\"The number of primes in the factor base:\", numPrimes)\n",
    "        print(\"These are:\", [nth_prime(m) for m in range(1, numPrimes+1)])\n",
    "    \n",
    "    # Set the number of relations to find\n",
    "    relsDesired = numPrimes + rels  # the number of relations to find\n",
    "    if verbose:\n",
    "        print(\"We are looking for \", relsDesired, \"relations.\")\n",
    "    vectors = []  # to store the relations we find\n",
    "        \n",
    "    # Main relation finding loop\n",
    "    searchCount = 0 # number of smoothness tests run\n",
    "    relsFound = 0 # number of relations found\n",
    "    while( relsFound < relsDesired ):\n",
    "        \n",
    "        # take a random power of x\n",
    "        x = randint(1,n)\n",
    "        residue = ZZ(Mod(g,n)^x)\n",
    "        \n",
    "        # trial division to test smoothness\n",
    "        fac = [0 for _ in range(B+1)]\n",
    "        for p in primes(B):\n",
    "            while Mod(residue,p) == 0:\n",
    "                residue = residue/p\n",
    "                fac[p] += 1\n",
    "        \n",
    "        if residue == 1:  # store a relation if smooth\n",
    "            if verbose:\n",
    "                print(\"found a relation:\", g, \"^\", x, \"is\", factor(ZZ(Mod(g,n)^x)))\n",
    "            if texify:\n",
    "                print(g,\"^{\",x,\"}&=\",latex(factor(ZZ(Mod(g,n)^x))),\",\\\\\\\\\")\n",
    "            vec = vector([fac[nth_prime(m)] for m in range(1,numPrimes+1)])\n",
    "            vectors.append([vec,x])\n",
    "            relsFound += 1\n",
    "            \n",
    "        searchCount += 1\n",
    "        \n",
    "    if verbose:\n",
    "        print(\"I searched through \", searchCount, \"powers of \", g)\n",
    "        \n",
    "    # Linear algebra phase\n",
    "    relMatrix = matrix([vectors[i][0] for i in range(relsDesired)]).transpose()\n",
    "    if verbose:\n",
    "        print(\"The relation matrix is (cols are relations):\")\n",
    "        print(relMatrix)\n",
    "    if texify:\n",
    "        print(latex(relMatrix))\n",
    "    kernel = relMatrix.right_kernel().basis()\n",
    "    if verbose:\n",
    "        print(\"The right kernel has basis:\")\n",
    "        print(kernel)\n",
    "    if texify:\n",
    "        print(latex(matrix(kernel)))\n",
    "    alphaVals = []\n",
    "    for basisVec in kernel:\n",
    "        alpha = sum([basisVec[i]*vectors[i][1] for i in range(relsDesired)])\n",
    "        alphaVals.append(alpha)\n",
    "    if verbose:\n",
    "        print(\"The corresponding sums of the x's are:\")\n",
    "        print(alphaVals)\n",
    "    if texify:\n",
    "        print(latex(alphaVals))\n",
    "        \n",
    "    # GCD phase\n",
    "    finalGCD = 0\n",
    "    for alpha in alphaVals:\n",
    "        finalGCD = gcd(finalGCD,alpha)\n",
    "        \n",
    "    # Report and return\n",
    "    if verbose:\n",
    "        print(\"Their gcd is:\", finalGCD)\n",
    "        print(\"******* Relation to reality? ******\")\n",
    "        print(\"Sage's factorization of\", n, \"is\", factor(n))\n",
    "        print(\"The actual multiplicative order is:\", Mod(g,n).multiplicative_order())\n",
    "        if Mod(g,n).multiplicative_order() == finalGCD:\n",
    "            print(\"Success!\")\n",
    "        else:\n",
    "            print(\"Failure!\")\n",
    "            print(\"The ratio of the expected value to the real value is (1=success):\", finalGCD/Mod(g,n).multiplicative_order())\n",
    "    if alphas:\n",
    "        return(finalGCD,[a/finalGCD for a in alphaVals])\n",
    "    return(finalGCD)\n",
    "            \n",
    "    "
   ]
  },
  {
   "cell_type": "code",
   "execution_count": 2,
   "metadata": {
    "collapsed": false
   },
   "outputs": [
    {
     "name": "stdout",
     "output_type": "stream",
     "text": [
      "Attempting to compute the order of  3 modulo 4\n",
      "The number of primes in the factor base: 4\n",
      "These are: [2, 3, 5, 7]\n",
      "We are looking for  14 relations.\n",
      "found a relation: 3 ^ 3 is 3\n",
      "found a relation: 3 ^ 4 is 1\n",
      "found a relation: 3 ^ 3 is 3\n",
      "found a relation: 3 ^ 2 is 1\n",
      "found a relation: 3 ^ 3 is 3\n",
      "found a relation: 3 ^ 4 is 1\n",
      "found a relation: 3 ^ 1 is 3\n",
      "found a relation: 3 ^ 2 is 1\n",
      "found a relation: 3 ^ 3 is 3\n",
      "found a relation: 3 ^ 3 is 3\n",
      "found a relation: 3 ^ 2 is 1\n",
      "found a relation: 3 ^ 3 is 3\n",
      "found a relation: 3 ^ 3 is 3\n",
      "found a relation: 3 ^ 4 is 1\n",
      "I searched through  14 powers of  3\n",
      "The relation matrix is (cols are relations):\n",
      "[0 0 0 0 0 0 0 0 0 0 0 0 0 0]\n",
      "[1 0 1 0 1 0 1 0 1 1 0 1 1 0]\n",
      "[0 0 0 0 0 0 0 0 0 0 0 0 0 0]\n",
      "[0 0 0 0 0 0 0 0 0 0 0 0 0 0]\n"
     ]
    },
    {
     "name": "stdout",
     "output_type": "stream",
     "text": [
      "The right kernel has basis:\n",
      "[\n",
      "(1, 0, 0, 0, 0, 0, 0, 0, 0, 0, 0, 0, -1, 0),\n",
      "(0, 1, 0, 0, 0, 0, 0, 0, 0, 0, 0, 0, 0, 0),\n",
      "(0, 0, 1, 0, 0, 0, 0, 0, 0, 0, 0, 0, -1, 0),\n",
      "(0, 0, 0, 1, 0, 0, 0, 0, 0, 0, 0, 0, 0, 0),\n",
      "(0, 0, 0, 0, 1, 0, 0, 0, 0, 0, 0, 0, -1, 0),\n",
      "(0, 0, 0, 0, 0, 1, 0, 0, 0, 0, 0, 0, 0, 0),\n",
      "(0, 0, 0, 0, 0, 0, 1, 0, 0, 0, 0, 0, -1, 0),\n",
      "(0, 0, 0, 0, 0, 0, 0, 1, 0, 0, 0, 0, 0, 0),\n",
      "(0, 0, 0, 0, 0, 0, 0, 0, 1, 0, 0, 0, -1, 0),\n",
      "(0, 0, 0, 0, 0, 0, 0, 0, 0, 1, 0, 0, -1, 0),\n",
      "(0, 0, 0, 0, 0, 0, 0, 0, 0, 0, 1, 0, 0, 0),\n",
      "(0, 0, 0, 0, 0, 0, 0, 0, 0, 0, 0, 1, -1, 0),\n",
      "(0, 0, 0, 0, 0, 0, 0, 0, 0, 0, 0, 0, 0, 1)\n",
      "]\n",
      "The corresponding sums of the x's are:\n",
      "[0, 4, 0, 2, 0, 4, -2, 2, 0, 0, 2, 0, 4]\n",
      "Their gcd is: 2\n",
      "******* Relation to reality? ******\n",
      "Sage's factorization of 4 is 2^2\n",
      "The actual multiplicative order is: 2\n",
      "Success!\n"
     ]
    },
    {
     "data": {
      "text/plain": [
       "2"
      ]
     },
     "execution_count": 2,
     "metadata": {
     },
     "output_type": "execute_result"
    }
   ],
   "source": [
    "get_order(4, g=3, B=10, rels=10, verbose=True, texify=False)"
   ]
  }
 ],
 "metadata": {
  "kernelspec": {
   "argv": [
    "sage-10.3",
    "--python",
    "-m",
    "sage.repl.ipython_kernel",
    "--matplotlib=inline",
    "-f",
    "{connection_file}"
   ],
   "display_name": "SageMath 10.3",
   "env": {
   },
   "language": "sagemath",
   "metadata": {
    "cocalc": {
     "description": "Open-source mathematical software system",
     "priority": 10,
     "url": "https://www.sagemath.org/"
    }
   },
   "name": "sage-10.3",
   "resource_dir": "/ext/jupyter/kernels/sage-10.3"
  }
 },
 "nbformat": 4,
 "nbformat_minor": 4
}